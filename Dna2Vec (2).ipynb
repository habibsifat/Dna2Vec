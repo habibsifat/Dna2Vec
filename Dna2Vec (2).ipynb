{
  "nbformat": 4,
  "nbformat_minor": 0,
  "metadata": {
    "colab": {
      "name": "Dna2Vec.ipynb",
      "provenance": [],
      "collapsed_sections": [
        "QrqH2P22tGWL",
        "9Y-1UrMqtJ0p",
        "mgydp5IDtSiD",
        "8LuY8yLadUvm",
        "TZ4QHLsYfth2"
      ]
    },
    "kernelspec": {
      "name": "python3",
      "display_name": "Python 3"
    },
    "accelerator": "GPU"
  },
  "cells": [
    {
      "cell_type": "code",
      "metadata": {
        "id": "QmJ-BBjzQmem",
        "colab_type": "code",
        "colab": {
          "base_uri": "https://localhost:8080/",
          "height": 128
        },
        "outputId": "5213852d-1e86-44c4-a1d8-c1b3361bacc0"
      },
      "source": [
        "from google.colab import drive\n",
        "drive.mount('/content/drive')"
      ],
      "execution_count": 4,
      "outputs": [
        {
          "output_type": "stream",
          "text": [
            "Go to this URL in a browser: https://accounts.google.com/o/oauth2/auth?client_id=947318989803-6bn6qk8qdgf4n4g3pfee6491hc0brc4i.apps.googleusercontent.com&redirect_uri=urn%3aietf%3awg%3aoauth%3a2.0%3aoob&response_type=code&scope=email%20https%3a%2f%2fwww.googleapis.com%2fauth%2fdocs.test%20https%3a%2f%2fwww.googleapis.com%2fauth%2fdrive%20https%3a%2f%2fwww.googleapis.com%2fauth%2fdrive.photos.readonly%20https%3a%2f%2fwww.googleapis.com%2fauth%2fpeopleapi.readonly\n",
            "\n",
            "Enter your authorization code:\n",
            "··········\n",
            "Mounted at /content/drive\n"
          ],
          "name": "stdout"
        }
      ]
    },
    {
      "cell_type": "code",
      "metadata": {
        "id": "T4QKDxa_ODV4",
        "colab_type": "code",
        "colab": {
          "base_uri": "https://localhost:8080/",
          "height": 35
        },
        "outputId": "d5b98694-db75-4204-8248-6be01de8cc7b"
      },
      "source": [
        "from __future__ import print_function\n",
        "__author__ = 'maxim'\n",
        "import numpy as np\n",
        "import pandas as pd\n",
        "import gensim\n",
        "from gensim.models import KeyedVectors\n",
        "import string\n",
        "from keras.layers.core import Dense, Activation, Dropout\n",
        "from keras.callbacks import LambdaCallback\n",
        "from keras.layers.recurrent import LSTM\n",
        "from keras.layers.embeddings import Embedding\n",
        "from keras.layers import Dense, Activation\n",
        "from keras.models import Sequential\n",
        "from keras.utils.data_utils import get_file\n",
        "import matplotlib.pyplot as plt"
      ],
      "execution_count": 2,
      "outputs": [
        {
          "output_type": "stream",
          "text": [
            "Using TensorFlow backend.\n"
          ],
          "name": "stderr"
        }
      ]
    },
    {
      "cell_type": "code",
      "metadata": {
        "id": "s5IOYY2dHCMm",
        "colab_type": "code",
        "outputId": "612d4dd9-07ff-4550-f6e6-90ed0f2b36e0",
        "colab": {
          "base_uri": "https://localhost:8080/",
          "height": 72
        }
      },
      "source": [
        "corpus_file = '/content/drive/My Drive/Colab Notebooks/BIO/Promoter/Dna2Vec/Sigma70/70ds4.txt'\n",
        "print('\\nPreparing the  sentences...')\n",
        "sentences = []\n",
        "with open(corpus_file, 'r', encoding=\"utf-8-sig\") as f:\n",
        "    for line in f:\n",
        "        sentences.append(line.split())\n",
        "        \n",
        "print('Num sentences:', len(sentences))"
      ],
      "execution_count": 65,
      "outputs": [
        {
          "output_type": "stream",
          "text": [
            "\n",
            "Preparing the  sentences...\n",
            "Num sentences: 2860\n"
          ],
          "name": "stdout"
        }
      ]
    },
    {
      "cell_type": "markdown",
      "metadata": {
        "id": "rZ95trPAtAk2",
        "colab_type": "text"
      },
      "source": [
        "# **w2v**"
      ]
    },
    {
      "cell_type": "code",
      "metadata": {
        "id": "t2Q3vhIVNb8m",
        "colab_type": "code",
        "colab": {}
      },
      "source": [
        "!pip install gensim"
      ],
      "execution_count": 0,
      "outputs": []
    },
    {
      "cell_type": "code",
      "metadata": {
        "id": "2QC1fd3PNX40",
        "colab_type": "code",
        "outputId": "05dfbc9f-0af1-4e42-dcab-598ef0adb541",
        "colab": {
          "base_uri": "https://localhost:8080/",
          "height": 72
        }
      },
      "source": [
        "from gensim.models import Word2Vec\n",
        "print('\\nTraining word2vec...')\n",
        "word_model = Word2Vec(sentences, size=100, min_count=1, window=5, iter=10)\n",
        "#pretrained_weights = word_model.wv.syn0 \n",
        "#vocab_size, emdedding_size = pretrained_weights.shape\n",
        "#print('Result embedding shape:', pretrained_weights.shape)\n",
        "len(word_model.wv.vocab)\n",
        "#Save partly trained model\n",
        "#word_model.save('w2v_model.h5')"
      ],
      "execution_count": 66,
      "outputs": [
        {
          "output_type": "stream",
          "text": [
            "\n",
            "Training word2vec...\n"
          ],
          "name": "stdout"
        },
        {
          "output_type": "execute_result",
          "data": {
            "text/plain": [
              "261"
            ]
          },
          "metadata": {
            "tags": []
          },
          "execution_count": 66
        }
      ]
    },
    {
      "cell_type": "code",
      "metadata": {
        "id": "pZil4xClLDLN",
        "colab_type": "code",
        "colab": {
          "base_uri": "https://localhost:8080/",
          "height": 1000
        },
        "outputId": "d358ad87-07f6-4bf4-dc9a-0df43342de9b"
      },
      "source": [
        "word_model.wv.vocab"
      ],
      "execution_count": 67,
      "outputs": [
        {
          "output_type": "execute_result",
          "data": {
            "text/plain": [
              "{'AAAA': <gensim.models.keyedvectors.Vocab at 0x7f3f4386abe0>,\n",
              " 'AAAC': <gensim.models.keyedvectors.Vocab at 0x7f3f43868be0>,\n",
              " 'AAAG': <gensim.models.keyedvectors.Vocab at 0x7f3f43869208>,\n",
              " 'AAAT': <gensim.models.keyedvectors.Vocab at 0x7f3f4386a278>,\n",
              " 'AACA': <gensim.models.keyedvectors.Vocab at 0x7f3f43868c50>,\n",
              " 'AACC': <gensim.models.keyedvectors.Vocab at 0x7f3f4386afd0>,\n",
              " 'AACG': <gensim.models.keyedvectors.Vocab at 0x7f3f4386a828>,\n",
              " 'AACT': <gensim.models.keyedvectors.Vocab at 0x7f3f43869fd0>,\n",
              " 'AAGA': <gensim.models.keyedvectors.Vocab at 0x7f3f43869240>,\n",
              " 'AAGC': <gensim.models.keyedvectors.Vocab at 0x7f3f4386a630>,\n",
              " 'AAGG': <gensim.models.keyedvectors.Vocab at 0x7f3f4386d0f0>,\n",
              " 'AAGT': <gensim.models.keyedvectors.Vocab at 0x7f3f4386d6d8>,\n",
              " 'AATA': <gensim.models.keyedvectors.Vocab at 0x7f3f43869e48>,\n",
              " 'AATC': <gensim.models.keyedvectors.Vocab at 0x7f3f4386d4e0>,\n",
              " 'AATG': <gensim.models.keyedvectors.Vocab at 0x7f3f4386d748>,\n",
              " 'AATT': <gensim.models.keyedvectors.Vocab at 0x7f3f4386aef0>,\n",
              " 'ACAA': <gensim.models.keyedvectors.Vocab at 0x7f3f4386f198>,\n",
              " 'ACAC': <gensim.models.keyedvectors.Vocab at 0x7f3f4386dcc0>,\n",
              " 'ACAG': <gensim.models.keyedvectors.Vocab at 0x7f3f43868c88>,\n",
              " 'ACAT': <gensim.models.keyedvectors.Vocab at 0x7f3f43869ac8>,\n",
              " 'ACCA': <gensim.models.keyedvectors.Vocab at 0x7f3f4386a4e0>,\n",
              " 'ACCC': <gensim.models.keyedvectors.Vocab at 0x7f3f4386dc50>,\n",
              " 'ACCG': <gensim.models.keyedvectors.Vocab at 0x7f3f4386d048>,\n",
              " 'ACCT': <gensim.models.keyedvectors.Vocab at 0x7f3f43868f98>,\n",
              " 'ACGA': <gensim.models.keyedvectors.Vocab at 0x7f3f4386a860>,\n",
              " 'ACGC': <gensim.models.keyedvectors.Vocab at 0x7f3f4386db70>,\n",
              " 'ACGG': <gensim.models.keyedvectors.Vocab at 0x7f3f436a70f0>,\n",
              " 'ACGT': <gensim.models.keyedvectors.Vocab at 0x7f3f4386db00>,\n",
              " 'ACTA': <gensim.models.keyedvectors.Vocab at 0x7f3f4386dac8>,\n",
              " 'ACTC': <gensim.models.keyedvectors.Vocab at 0x7f3f43868d68>,\n",
              " 'ACTG': <gensim.models.keyedvectors.Vocab at 0x7f3f4386a048>,\n",
              " 'ACTT': <gensim.models.keyedvectors.Vocab at 0x7f3f4386a9b0>,\n",
              " 'AGAA': <gensim.models.keyedvectors.Vocab at 0x7f3f43869978>,\n",
              " 'AGAC': <gensim.models.keyedvectors.Vocab at 0x7f3f43868cf8>,\n",
              " 'AGAG': <gensim.models.keyedvectors.Vocab at 0x7f3f43869278>,\n",
              " 'AGAT': <gensim.models.keyedvectors.Vocab at 0x7f3f43869c88>,\n",
              " 'AGCA': <gensim.models.keyedvectors.Vocab at 0x7f3f43869320>,\n",
              " 'AGCC': <gensim.models.keyedvectors.Vocab at 0x7f3f4386f2b0>,\n",
              " 'AGCG': <gensim.models.keyedvectors.Vocab at 0x7f3f43869f28>,\n",
              " 'AGCT': <gensim.models.keyedvectors.Vocab at 0x7f3f4386a748>,\n",
              " 'AGGA': <gensim.models.keyedvectors.Vocab at 0x7f3f4386f240>,\n",
              " 'AGGC': <gensim.models.keyedvectors.Vocab at 0x7f3f438693c8>,\n",
              " 'AGGG': <gensim.models.keyedvectors.Vocab at 0x7f3f4386a3c8>,\n",
              " 'AGGT': <gensim.models.keyedvectors.Vocab at 0x7f3f4386d128>,\n",
              " 'AGTA': <gensim.models.keyedvectors.Vocab at 0x7f3f4386d320>,\n",
              " 'AGTC': <gensim.models.keyedvectors.Vocab at 0x7f3f4386d978>,\n",
              " 'AGTG': <gensim.models.keyedvectors.Vocab at 0x7f3f4386f1d0>,\n",
              " 'AGTT': <gensim.models.keyedvectors.Vocab at 0x7f3f4386a550>,\n",
              " 'ATAA': <gensim.models.keyedvectors.Vocab at 0x7f3f4386d2e8>,\n",
              " 'ATAC': <gensim.models.keyedvectors.Vocab at 0x7f3f4386df28>,\n",
              " 'ATAG': <gensim.models.keyedvectors.Vocab at 0x7f3f4386dfd0>,\n",
              " 'ATAT': <gensim.models.keyedvectors.Vocab at 0x7f3f43869d68>,\n",
              " 'ATCA': <gensim.models.keyedvectors.Vocab at 0x7f3f4386db38>,\n",
              " 'ATCC': <gensim.models.keyedvectors.Vocab at 0x7f3f4386a8d0>,\n",
              " 'ATCG': <gensim.models.keyedvectors.Vocab at 0x7f3f4386d518>,\n",
              " 'ATCT': <gensim.models.keyedvectors.Vocab at 0x7f3f43869748>,\n",
              " 'ATGA': <gensim.models.keyedvectors.Vocab at 0x7f3f4386af60>,\n",
              " 'ATGC': <gensim.models.keyedvectors.Vocab at 0x7f3f4386a0b8>,\n",
              " 'ATGG': <gensim.models.keyedvectors.Vocab at 0x7f3f4386d828>,\n",
              " 'ATGT': <gensim.models.keyedvectors.Vocab at 0x7f3f43868e48>,\n",
              " 'ATTA': <gensim.models.keyedvectors.Vocab at 0x7f3f43869550>,\n",
              " 'ATTC': <gensim.models.keyedvectors.Vocab at 0x7f3f4386d7f0>,\n",
              " 'ATTG': <gensim.models.keyedvectors.Vocab at 0x7f3f43869b38>,\n",
              " 'ATTT': <gensim.models.keyedvectors.Vocab at 0x7f3f43869588>,\n",
              " 'CAAA': <gensim.models.keyedvectors.Vocab at 0x7f3f4386aeb8>,\n",
              " 'CAAC': <gensim.models.keyedvectors.Vocab at 0x7f3f43869a90>,\n",
              " 'CAAG': <gensim.models.keyedvectors.Vocab at 0x7f3f4386a5f8>,\n",
              " 'CAAT': <gensim.models.keyedvectors.Vocab at 0x7f3f4386d400>,\n",
              " 'CACA': <gensim.models.keyedvectors.Vocab at 0x7f3f4386da20>,\n",
              " 'CACC': <gensim.models.keyedvectors.Vocab at 0x7f3f4386dc18>,\n",
              " 'CACG': <gensim.models.keyedvectors.Vocab at 0x7f3f4386f048>,\n",
              " 'CACT': <gensim.models.keyedvectors.Vocab at 0x7f3f4386d668>,\n",
              " 'CAGA': <gensim.models.keyedvectors.Vocab at 0x7f3f43868cc0>,\n",
              " 'CAGC': <gensim.models.keyedvectors.Vocab at 0x7f3f438696a0>,\n",
              " 'CAGG': <gensim.models.keyedvectors.Vocab at 0x7f3f43869390>,\n",
              " 'CAGT': <gensim.models.keyedvectors.Vocab at 0x7f3f4386a518>,\n",
              " 'CATA': <gensim.models.keyedvectors.Vocab at 0x7f3f4386df98>,\n",
              " 'CATC': <gensim.models.keyedvectors.Vocab at 0x7f3f43869710>,\n",
              " 'CATG': <gensim.models.keyedvectors.Vocab at 0x7f3f43868e10>,\n",
              " 'CATT': <gensim.models.keyedvectors.Vocab at 0x7f3f43869b00>,\n",
              " 'CCAA': <gensim.models.keyedvectors.Vocab at 0x7f3f4386d3c8>,\n",
              " 'CCAC': <gensim.models.keyedvectors.Vocab at 0x7f3f4386d630>,\n",
              " 'CCAG': <gensim.models.keyedvectors.Vocab at 0x7f3f4386a358>,\n",
              " 'CCAT': <gensim.models.keyedvectors.Vocab at 0x7f3f4386df60>,\n",
              " 'CCCA': <gensim.models.keyedvectors.Vocab at 0x7f3f4386f160>,\n",
              " 'CCCC': <gensim.models.keyedvectors.Vocab at 0x7f3f4386f208>,\n",
              " 'CCCG': <gensim.models.keyedvectors.Vocab at 0x7f3f4386ab70>,\n",
              " 'CCCT': <gensim.models.keyedvectors.Vocab at 0x7f3f4386d278>,\n",
              " 'CCGA': <gensim.models.keyedvectors.Vocab at 0x7f3f4386a940>,\n",
              " 'CCGC': <gensim.models.keyedvectors.Vocab at 0x7f3f43869908>,\n",
              " 'CCGG': <gensim.models.keyedvectors.Vocab at 0x7f3f4386aba8>,\n",
              " 'CCGT': <gensim.models.keyedvectors.Vocab at 0x7f3f4386d0b8>,\n",
              " 'CCTA': <gensim.models.keyedvectors.Vocab at 0x7f3f4386f0b8>,\n",
              " 'CCTC': <gensim.models.keyedvectors.Vocab at 0x7f3f4386dcf8>,\n",
              " 'CCTG': <gensim.models.keyedvectors.Vocab at 0x7f3f4386d2b0>,\n",
              " 'CCTT': <gensim.models.keyedvectors.Vocab at 0x7f3f43868fd0>,\n",
              " 'CGAA': <gensim.models.keyedvectors.Vocab at 0x7f3f4386d4a8>,\n",
              " 'CGAC': <gensim.models.keyedvectors.Vocab at 0x7f3f4386a978>,\n",
              " 'CGAG': <gensim.models.keyedvectors.Vocab at 0x7f3f43869a20>,\n",
              " 'CGAT': <gensim.models.keyedvectors.Vocab at 0x7f3f4386a898>,\n",
              " 'CGCA': <gensim.models.keyedvectors.Vocab at 0x7f3f43869940>,\n",
              " 'CGCC': <gensim.models.keyedvectors.Vocab at 0x7f3f43869898>,\n",
              " 'CGCG': <gensim.models.keyedvectors.Vocab at 0x7f3f4386ac88>,\n",
              " 'CGCT': <gensim.models.keyedvectors.Vocab at 0x7f3f4386ad68>,\n",
              " 'CGGA': <gensim.models.keyedvectors.Vocab at 0x7f3f4386ae10>,\n",
              " 'CGGC': <gensim.models.keyedvectors.Vocab at 0x7f3f4386da90>,\n",
              " 'CGGG': <gensim.models.keyedvectors.Vocab at 0x7f3f43755320>,\n",
              " 'CGGT': <gensim.models.keyedvectors.Vocab at 0x7f3f4386d588>,\n",
              " 'CGTA': <gensim.models.keyedvectors.Vocab at 0x7f3f43869f60>,\n",
              " 'CGTC': <gensim.models.keyedvectors.Vocab at 0x7f3f4386dd30>,\n",
              " 'CGTG': <gensim.models.keyedvectors.Vocab at 0x7f3f4386aa20>,\n",
              " 'CGTT': <gensim.models.keyedvectors.Vocab at 0x7f3f43869470>,\n",
              " 'CTAA': <gensim.models.keyedvectors.Vocab at 0x7f3f4386a240>,\n",
              " 'CTAC': <gensim.models.keyedvectors.Vocab at 0x7f3f4386d438>,\n",
              " 'CTAG': <gensim.models.keyedvectors.Vocab at 0x7f3f4386f3c8>,\n",
              " 'CTAT': <gensim.models.keyedvectors.Vocab at 0x7f3f4386a160>,\n",
              " 'CTCA': <gensim.models.keyedvectors.Vocab at 0x7f3f43868da0>,\n",
              " 'CTCC': <gensim.models.keyedvectors.Vocab at 0x7f3f4386d080>,\n",
              " 'CTCG': <gensim.models.keyedvectors.Vocab at 0x7f3f4386ac50>,\n",
              " 'CTCT': <gensim.models.keyedvectors.Vocab at 0x7f3f4386f128>,\n",
              " 'CTGA': <gensim.models.keyedvectors.Vocab at 0x7f3f4386ada0>,\n",
              " 'CTGC': <gensim.models.keyedvectors.Vocab at 0x7f3f4386d390>,\n",
              " 'CTGG': <gensim.models.keyedvectors.Vocab at 0x7f3f4386deb8>,\n",
              " 'CTGT': <gensim.models.keyedvectors.Vocab at 0x7f3f438697b8>,\n",
              " 'CTTA': <gensim.models.keyedvectors.Vocab at 0x7f3f4386d9b0>,\n",
              " 'CTTC': <gensim.models.keyedvectors.Vocab at 0x7f3f4386d1d0>,\n",
              " 'CTTG': <gensim.models.keyedvectors.Vocab at 0x7f3f43869048>,\n",
              " 'CTTT': <gensim.models.keyedvectors.Vocab at 0x7f3f4386af98>,\n",
              " 'GAAA': <gensim.models.keyedvectors.Vocab at 0x7f3f43868c18>,\n",
              " 'GAAC': <gensim.models.keyedvectors.Vocab at 0x7f3f4386a7f0>,\n",
              " 'GAAG': <gensim.models.keyedvectors.Vocab at 0x7f3f438699b0>,\n",
              " 'GAAT': <gensim.models.keyedvectors.Vocab at 0x7f3f4386dc88>,\n",
              " 'GACA': <gensim.models.keyedvectors.Vocab at 0x7f3f4386a390>,\n",
              " 'GACC': <gensim.models.keyedvectors.Vocab at 0x7f3f43868f60>,\n",
              " 'GACG': <gensim.models.keyedvectors.Vocab at 0x7f3f4386add8>,\n",
              " 'GACT': <gensim.models.keyedvectors.Vocab at 0x7f3f43868d30>,\n",
              " 'GAGA': <gensim.models.keyedvectors.Vocab at 0x7f3f438692b0>,\n",
              " 'GAGC': <gensim.models.keyedvectors.Vocab at 0x7f3f438692e8>,\n",
              " 'GAGG': <gensim.models.keyedvectors.Vocab at 0x7f3f4386f0f0>,\n",
              " 'GAGT': <gensim.models.keyedvectors.Vocab at 0x7f3f4386ab00>,\n",
              " 'GATA': <gensim.models.keyedvectors.Vocab at 0x7f3f43869d30>,\n",
              " 'GATC': <gensim.models.keyedvectors.Vocab at 0x7f3f4386a208>,\n",
              " 'GATG': <gensim.models.keyedvectors.Vocab at 0x7f3f4386af28>,\n",
              " 'GATT': <gensim.models.keyedvectors.Vocab at 0x7f3f43869cc0>,\n",
              " 'GCAA': <gensim.models.keyedvectors.Vocab at 0x7f3f43869a58>,\n",
              " 'GCAC': <gensim.models.keyedvectors.Vocab at 0x7f3f4386d9e8>,\n",
              " 'GCAG': <gensim.models.keyedvectors.Vocab at 0x7f3f43869358>,\n",
              " 'GCAT': <gensim.models.keyedvectors.Vocab at 0x7f3f438696d8>,\n",
              " 'GCCA': <gensim.models.keyedvectors.Vocab at 0x7f3f4386a320>,\n",
              " 'GCCC': <gensim.models.keyedvectors.Vocab at 0x7f3f4386ab38>,\n",
              " 'GCCG': <gensim.models.keyedvectors.Vocab at 0x7f3f438698d0>,\n",
              " 'GCCT': <gensim.models.keyedvectors.Vocab at 0x7f3f4386f080>,\n",
              " 'GCGA': <gensim.models.keyedvectors.Vocab at 0x7f3f438699e8>,\n",
              " 'GCGC': <gensim.models.keyedvectors.Vocab at 0x7f3f4386da58>,\n",
              " 'GCGG': <gensim.models.keyedvectors.Vocab at 0x7f3f4386acc0>,\n",
              " 'GCGT': <gensim.models.keyedvectors.Vocab at 0x7f3f43869438>,\n",
              " 'GCTA': <gensim.models.keyedvectors.Vocab at 0x7f3f4386a780>,\n",
              " 'GCTC': <gensim.models.keyedvectors.Vocab at 0x7f3f4386ac18>,\n",
              " 'GCTG': <gensim.models.keyedvectors.Vocab at 0x7f3f43869be0>,\n",
              " 'GCTT': <gensim.models.keyedvectors.Vocab at 0x7f3f4386a2b0>,\n",
              " 'GGAA': <gensim.models.keyedvectors.Vocab at 0x7f3f43755358>,\n",
              " 'GGAC': <gensim.models.keyedvectors.Vocab at 0x7f3f4386ae48>,\n",
              " 'GGAG': <gensim.models.keyedvectors.Vocab at 0x7f3f4386aac8>,\n",
              " 'GGAT': <gensim.models.keyedvectors.Vocab at 0x7f3f4386def0>,\n",
              " 'GGCA': <gensim.models.keyedvectors.Vocab at 0x7f3f4386ae80>,\n",
              " 'GGCC': <gensim.models.keyedvectors.Vocab at 0x7f3f4386f2e8>,\n",
              " 'GGCG': <gensim.models.keyedvectors.Vocab at 0x7f3f43869400>,\n",
              " 'GGCT': <gensim.models.keyedvectors.Vocab at 0x7f3f4386acf8>,\n",
              " 'GGGA': <gensim.models.keyedvectors.Vocab at 0x7f3f43755240>,\n",
              " 'GGGC': <gensim.models.keyedvectors.Vocab at 0x7f3f4386a438>,\n",
              " 'GGGG': <gensim.models.keyedvectors.Vocab at 0x7f3f4386a400>,\n",
              " 'GGGT': <gensim.models.keyedvectors.Vocab at 0x7f3f4386a668>,\n",
              " 'GGTA': <gensim.models.keyedvectors.Vocab at 0x7f3f4386de10>,\n",
              " 'GGTC': <gensim.models.keyedvectors.Vocab at 0x7f3f4386d860>,\n",
              " 'GGTG': <gensim.models.keyedvectors.Vocab at 0x7f3f4386f278>,\n",
              " 'GGTT': <gensim.models.keyedvectors.Vocab at 0x7f3f438690f0>,\n",
              " 'GTAA': <gensim.models.keyedvectors.Vocab at 0x7f3f43869198>,\n",
              " 'GTAC': <gensim.models.keyedvectors.Vocab at 0x7f3f4386de48>,\n",
              " 'GTAG': <gensim.models.keyedvectors.Vocab at 0x7f3f43869c18>,\n",
              " 'GTAT': <gensim.models.keyedvectors.Vocab at 0x7f3f4386d358>,\n",
              " 'GTCA': <gensim.models.keyedvectors.Vocab at 0x7f3f4386dd68>,\n",
              " 'GTCC': <gensim.models.keyedvectors.Vocab at 0x7f3f4386f390>,\n",
              " 'GTCG': <gensim.models.keyedvectors.Vocab at 0x7f3f43869828>,\n",
              " 'GTCT': <gensim.models.keyedvectors.Vocab at 0x7f3f4386d898>,\n",
              " 'GTGA': <gensim.models.keyedvectors.Vocab at 0x7f3f4386a1d0>,\n",
              " 'GTGC': <gensim.models.keyedvectors.Vocab at 0x7f3f4386d780>,\n",
              " 'GTGG': <gensim.models.keyedvectors.Vocab at 0x7f3f4386aa58>,\n",
              " 'GTGT': <gensim.models.keyedvectors.Vocab at 0x7f3f4386dba8>,\n",
              " 'GTTA': <gensim.models.keyedvectors.Vocab at 0x7f3f438694a8>,\n",
              " 'GTTC': <gensim.models.keyedvectors.Vocab at 0x7f3f4386a588>,\n",
              " 'GTTG': <gensim.models.keyedvectors.Vocab at 0x7f3f43868eb8>,\n",
              " 'GTTT': <gensim.models.keyedvectors.Vocab at 0x7f3f4386a6a0>,\n",
              " 'TAAA': <gensim.models.keyedvectors.Vocab at 0x7f3f438691d0>,\n",
              " 'TAAC': <gensim.models.keyedvectors.Vocab at 0x7f3f43869f98>,\n",
              " 'TAAG': <gensim.models.keyedvectors.Vocab at 0x7f3f4386a710>,\n",
              " 'TAAT': <gensim.models.keyedvectors.Vocab at 0x7f3f43869e10>,\n",
              " 'TACA': <gensim.models.keyedvectors.Vocab at 0x7f3f4386d160>,\n",
              " 'TACC': <gensim.models.keyedvectors.Vocab at 0x7f3f4386a4a8>,\n",
              " 'TACG': <gensim.models.keyedvectors.Vocab at 0x7f3f4386d470>,\n",
              " 'TACT': <gensim.models.keyedvectors.Vocab at 0x7f3f4386de80>,\n",
              " 'TAGA': <gensim.models.keyedvectors.Vocab at 0x7f3f43869c50>,\n",
              " 'TAGC': <gensim.models.keyedvectors.Vocab at 0x7f3f43869ef0>,\n",
              " 'TAGG': <gensim.models.keyedvectors.Vocab at 0x7f3f4386f320>,\n",
              " 'TAGT': <gensim.models.keyedvectors.Vocab at 0x7f3f4386d940>,\n",
              " 'TATA': <gensim.models.keyedvectors.Vocab at 0x7f3f43869e80>,\n",
              " 'TATC': <gensim.models.keyedvectors.Vocab at 0x7f3f4386a0f0>,\n",
              " 'TATG': <gensim.models.keyedvectors.Vocab at 0x7f3f4386a080>,\n",
              " 'TATT': <gensim.models.keyedvectors.Vocab at 0x7f3f43869518>,\n",
              " 'TCAA': <gensim.models.keyedvectors.Vocab at 0x7f3f4386a5c0>,\n",
              " 'TCAC': <gensim.models.keyedvectors.Vocab at 0x7f3f4386dbe0>,\n",
              " 'TCAG': <gensim.models.keyedvectors.Vocab at 0x7f3f43869668>,\n",
              " 'TCAT': <gensim.models.keyedvectors.Vocab at 0x7f3f43868dd8>,\n",
              " 'TCCA': <gensim.models.keyedvectors.Vocab at 0x7f3f4386d6a0>,\n",
              " 'TCCC': <gensim.models.keyedvectors.Vocab at 0x7f3f4386d240>,\n",
              " 'TCCG': <gensim.models.keyedvectors.Vocab at 0x7f3f4386a908>,\n",
              " 'TCCT': <gensim.models.keyedvectors.Vocab at 0x7f3f4386dda0>,\n",
              " 'TCGA': <gensim.models.keyedvectors.Vocab at 0x7f3f4386d5f8>,\n",
              " 'TCGC': <gensim.models.keyedvectors.Vocab at 0x7f3f43869860>,\n",
              " 'TCGG': <gensim.models.keyedvectors.Vocab at 0x7f3f4386d710>,\n",
              " 'TCGT': <gensim.models.keyedvectors.Vocab at 0x7f3f4386d550>,\n",
              " 'TCTA': <gensim.models.keyedvectors.Vocab at 0x7f3f4386a128>,\n",
              " 'TCTC': <gensim.models.keyedvectors.Vocab at 0x7f3f4386ad30>,\n",
              " 'TCTG': <gensim.models.keyedvectors.Vocab at 0x7f3f43869780>,\n",
              " 'TCTT': <gensim.models.keyedvectors.Vocab at 0x7f3f4386d198>,\n",
              " 'TGAA': <gensim.models.keyedvectors.Vocab at 0x7f3f4386a7b8>,\n",
              " 'TGAC': <gensim.models.keyedvectors.Vocab at 0x7f3f43868f28>,\n",
              " 'TGAG': <gensim.models.keyedvectors.Vocab at 0x7f3f4386d908>,\n",
              " 'TGAT': <gensim.models.keyedvectors.Vocab at 0x7f3f43869cf8>,\n",
              " 'TGCA': <gensim.models.keyedvectors.Vocab at 0x7f3f4386d7b8>,\n",
              " 'TGCC': <gensim.models.keyedvectors.Vocab at 0x7f3f4386a2e8>,\n",
              " 'TGCG': <gensim.models.keyedvectors.Vocab at 0x7f3f4386a9e8>,\n",
              " 'TGCT': <gensim.models.keyedvectors.Vocab at 0x7f3f43869ba8>,\n",
              " 'TGGA': <gensim.models.keyedvectors.Vocab at 0x7f3f4386aa90>,\n",
              " 'TGGC': <gensim.models.keyedvectors.Vocab at 0x7f3f4386f358>,\n",
              " 'TGGG': <gensim.models.keyedvectors.Vocab at 0x7f3f4386d8d0>,\n",
              " 'TGGT': <gensim.models.keyedvectors.Vocab at 0x7f3f438690b8>,\n",
              " 'TGTA': <gensim.models.keyedvectors.Vocab at 0x7f3f43869160>,\n",
              " 'TGTC': <gensim.models.keyedvectors.Vocab at 0x7f3f438697f0>,\n",
              " 'TGTG': <gensim.models.keyedvectors.Vocab at 0x7f3f4386a198>,\n",
              " 'TGTT': <gensim.models.keyedvectors.Vocab at 0x7f3f43868e80>,\n",
              " 'TTAA': <gensim.models.keyedvectors.Vocab at 0x7f3f43869dd8>,\n",
              " 'TTAC': <gensim.models.keyedvectors.Vocab at 0x7f3f4386a470>,\n",
              " 'TTAG': <gensim.models.keyedvectors.Vocab at 0x7f3f43869eb8>,\n",
              " 'TTAT': <gensim.models.keyedvectors.Vocab at 0x7f3f438694e0>,\n",
              " 'TTCA': <gensim.models.keyedvectors.Vocab at 0x7f3f43869630>,\n",
              " 'TTCC': <gensim.models.keyedvectors.Vocab at 0x7f3f4386d208>,\n",
              " 'TTCG': <gensim.models.keyedvectors.Vocab at 0x7f3f4386d5c0>,\n",
              " 'TTCT': <gensim.models.keyedvectors.Vocab at 0x7f3f4386ddd8>,\n",
              " 'TTGA': <gensim.models.keyedvectors.Vocab at 0x7f3f43868ef0>,\n",
              " 'TTGC': <gensim.models.keyedvectors.Vocab at 0x7f3f43869b70>,\n",
              " 'TTGG': <gensim.models.keyedvectors.Vocab at 0x7f3f43869080>,\n",
              " 'TTGT': <gensim.models.keyedvectors.Vocab at 0x7f3f43869128>,\n",
              " 'TTTA': <gensim.models.keyedvectors.Vocab at 0x7f3f43869da0>,\n",
              " 'TTTC': <gensim.models.keyedvectors.Vocab at 0x7f3f438695f8>,\n",
              " 'TTTG': <gensim.models.keyedvectors.Vocab at 0x7f3f4386a6d8>,\n",
              " 'TTTT': <gensim.models.keyedvectors.Vocab at 0x7f3f438695c0>,\n",
              " '\\ufeffAAT': <gensim.models.keyedvectors.Vocab at 0x7f3f4386f438>,\n",
              " '\\ufeffATT': <gensim.models.keyedvectors.Vocab at 0x7f3f4386f400>,\n",
              " '\\ufeffCAA': <gensim.models.keyedvectors.Vocab at 0x7f3f4386f4e0>,\n",
              " '\\ufeffCCT': <gensim.models.keyedvectors.Vocab at 0x7f3f4386f4a8>,\n",
              " '\\ufeffGGG': <gensim.models.keyedvectors.Vocab at 0x7f3f4386f470>}"
            ]
          },
          "metadata": {
            "tags": []
          },
          "execution_count": 67
        }
      ]
    },
    {
      "cell_type": "code",
      "metadata": {
        "id": "0NbNY9qiRSpL",
        "colab_type": "code",
        "colab": {}
      },
      "source": [
        "word_model.wv['\\ufeff']"
      ],
      "execution_count": 0,
      "outputs": []
    },
    {
      "cell_type": "code",
      "metadata": {
        "id": "ATjrZ_uMNsPo",
        "colab_type": "code",
        "colab": {}
      },
      "source": [
        "pretrained_weights = word_model.wv.syn0 \n",
        "vocab_size, emdedding_size = pretrained_weights.shape\n",
        "print('Result embedding shape:', pretrained_weights.shape)\n",
        "print(vocab_size)\n",
        "print(emdedding_size)"
      ],
      "execution_count": 0,
      "outputs": []
    },
    {
      "cell_type": "code",
      "metadata": {
        "id": "o5ijHh5JNsvJ",
        "colab_type": "code",
        "colab": {}
      },
      "source": [
        "def word2idx(word):\n",
        "  return word_model.wv.vocab[word].index\n",
        "def idx2word(idx):\n",
        "  return word_model.wv.index2word[idx]"
      ],
      "execution_count": 0,
      "outputs": []
    },
    {
      "cell_type": "code",
      "metadata": {
        "id": "Ndbf70tHN7xK",
        "colab_type": "code",
        "outputId": "913bff40-7ddd-4995-f193-62ab1dbfffaf",
        "colab": {
          "base_uri": "https://localhost:8080/",
          "height": 72
        }
      },
      "source": [
        "max_sentence_len = 78\n",
        "print('\\nPreparing the data for LSTM...')\n",
        "x = np.zeros([len(sentences), max_sentence_len], dtype=np.int32)\n",
        "#y = np.zeros([len(sentences)], dtype=np.int32)\n",
        "for i, sentence in enumerate(sentences):\n",
        "  for t, word in enumerate(sentence[:-1]):\n",
        "    x[i, t] = word2idx(word)\n",
        "    #y[i] = word2idx(sentence[-1])\n",
        "print('x shape:', x.shape)\n",
        "#print('y shape:', y.shape)"
      ],
      "execution_count": 0,
      "outputs": [
        {
          "output_type": "stream",
          "text": [
            "\n",
            "Preparing the data for LSTM...\n",
            "x shape: (5720, 78)\n"
          ],
          "name": "stdout"
        }
      ]
    },
    {
      "cell_type": "code",
      "metadata": {
        "id": "VbqHaYalOAIw",
        "colab_type": "code",
        "outputId": "d8d8a17a-d9ba-46b5-9d2b-e8dbf9f9aceb",
        "colab": {
          "base_uri": "https://localhost:8080/",
          "height": 35
        }
      },
      "source": [
        "y = np.array([1]*2860 + [0]*2860)\n",
        "print('y shape:', y.shape)"
      ],
      "execution_count": 0,
      "outputs": [
        {
          "output_type": "stream",
          "text": [
            "y shape: (5720,)\n"
          ],
          "name": "stdout"
        }
      ]
    },
    {
      "cell_type": "code",
      "metadata": {
        "id": "LK8Im-QQOKd5",
        "colab_type": "code",
        "outputId": "48d338b1-04a0-475c-fdb5-00650f49596f",
        "colab": {
          "base_uri": "https://localhost:8080/",
          "height": 90
        }
      },
      "source": [
        "#from sklearn.cross_validation import train_test_split\n",
        "from sklearn.model_selection import train_test_split\n",
        "X_train,X_test,Y_train,Y_test = train_test_split(x,y,test_size=0.1,random_state=10)\n",
        "#shape of train and test objects\n",
        "print(X_train.shape)\n",
        "print(X_test.shape)\n",
        "# shape of new y objects\n",
        "print(Y_train.shape)\n",
        "print(Y_test.shape)"
      ],
      "execution_count": 0,
      "outputs": [
        {
          "output_type": "stream",
          "text": [
            "(5148, 78)\n",
            "(572, 78)\n",
            "(5148,)\n",
            "(572,)\n"
          ],
          "name": "stdout"
        }
      ]
    },
    {
      "cell_type": "markdown",
      "metadata": {
        "id": "QrqH2P22tGWL",
        "colab_type": "text"
      },
      "source": [
        "# LSTM"
      ]
    },
    {
      "cell_type": "code",
      "metadata": {
        "id": "CMPF8GREOLUb",
        "colab_type": "code",
        "outputId": "71597781-6315-4f15-905c-3df3b6127dff",
        "colab": {
          "base_uri": "https://localhost:8080/",
          "height": 54
        }
      },
      "source": [
        "from keras import optimizers\n",
        "print('\\nTraining LSTM...')\n",
        "model = Sequential()\n",
        "model.add(Embedding(input_dim=vocab_size, output_dim=emdedding_size, weights=[pretrained_weights]))\n",
        "model.add(LSTM(units=512,return_sequences=True))\n",
        "#model.add(Activation('tanh'))\n",
        "model.add(Dropout(0.5))\n",
        "model.add(LSTM(units=512, return_sequences=False))\n",
        "#model.add(Activation('tanh'))\n",
        "model.add(Dropout(0.5))\n",
        "model.add(Dense(units=vocab_size))\n",
        "model.add(Activation('softmax'))\n",
        "optz = optimizers.Adam(lr=1, clipnorm=5,beta_1=0.9, beta_2=0.999, amsgrad=False)\n",
        "model.compile(optimizer=optz, loss='sparse_categorical_crossentropy', metrics=['accuracy'])"
      ],
      "execution_count": 0,
      "outputs": [
        {
          "output_type": "stream",
          "text": [
            "\n",
            "Training LSTM...\n"
          ],
          "name": "stdout"
        }
      ]
    },
    {
      "cell_type": "code",
      "metadata": {
        "id": "hBbBSIaoORyr",
        "colab_type": "code",
        "colab": {}
      },
      "source": [
        "history = model.fit(X_train, Y_train,batch_size=128,epochs=5,shuffle=True, validation_data=(X_test, Y_test))"
      ],
      "execution_count": 0,
      "outputs": []
    },
    {
      "cell_type": "markdown",
      "metadata": {
        "id": "9Y-1UrMqtJ0p",
        "colab_type": "text"
      },
      "source": [
        "# CNN"
      ]
    },
    {
      "cell_type": "code",
      "metadata": {
        "id": "Q8OIrBiyPxmN",
        "colab_type": "code",
        "colab": {}
      },
      "source": [
        "from keras.layers import Convolution1D, Dense, Dropout, Flatten\n",
        "from keras.optimizers import Adam,RMSprop\n",
        "from keras.callbacks import EarlyStopping\n",
        "model = Sequential()\n",
        "#model.add(Embedding(input_dim=vocab_size, output_dim=emdedding_size, weights=[pretrained_weights]))\n",
        "#model.add(Embedding(4, 100, input_length=81))\n",
        "model.add(Convolution1D(200, kernel_size=3, activation='relu', input_shape=(81, 1), name='m1_conv1'))\n",
        "#model.add(Dropout(0.5, name='m1_drop1'))\n",
        "model.add(Convolution1D(128, kernel_size=3, activation='relu', name='m1_conv2'))\n",
        "#model.add(Dropout(0.5, name='m1_drop2'))\n",
        "model.add(Convolution1D(64, kernel_size=3, activation='relu', name='m1_conv3'))\n",
        "#model.add(Dropout(0.5, name='m1_drop3'))\n",
        "model.add(Flatten(name='m1_flatten1'))\n",
        "#model.add(Dropout(0.5, name='m1_drop4'))\n",
        "model.add(Dense(64, activation='relu', name='m1_dense1'))\n",
        "model.add(Dense(1, activation='softmax', name='m1_dense2'))\n",
        "\n",
        "#model.compile(RMSprop(lr=.003), loss='categorical_crossentropy', metrics=['accuracy'])\n",
        "model.compile(Adam(lr=.003), loss='binary_crossentropy', metrics=['accuracy'])\n",
        "es = EarlyStopping(monitor='val_loss', mode='min', patience=16)\n",
        "model.fit(X_train, Y_train, validation_data=(X_test, Y_test), epochs=5, batch_size=32, callbacks=[es])"
      ],
      "execution_count": 0,
      "outputs": []
    },
    {
      "cell_type": "markdown",
      "metadata": {
        "id": "vcsZEWNAtPSk",
        "colab_type": "text"
      },
      "source": [
        "# 1-Mer"
      ]
    },
    {
      "cell_type": "code",
      "metadata": {
        "id": "NAkPNcNut9WP",
        "colab_type": "code",
        "colab": {}
      },
      "source": [
        "df = pd.read_csv('/content/promoter70.txt')\n",
        "seqs = df.iloc[:, 0].tolist()\n",
        "\n",
        "for i in range(len(seqs)):\n",
        "  seqs[i] = seqs[i].upper()\n",
        "  \n",
        "with open('/content/drive/My Drive/Colab Notebooks/BIO/Promoter/Dna2Vec/Sigma70/70ds1.txt', 'w', encoding=\"utf-8-sig\") as f:\n",
        "  for j in seqs:\n",
        "    for k in j:\n",
        "      f.write(k)\n",
        "      f.write(\" \")\n",
        "    f.write(\"\\n\")\n",
        "f.close()"
      ],
      "execution_count": 0,
      "outputs": []
    },
    {
      "cell_type": "code",
      "metadata": {
        "id": "GvLcDjD3sxbH",
        "colab_type": "code",
        "outputId": "b2bd6599-0ab3-4130-d8a1-8a1a27851e19",
        "colab": {
          "base_uri": "https://localhost:8080/",
          "height": 33
        }
      },
      "source": [
        "%pwd"
      ],
      "execution_count": 0,
      "outputs": [
        {
          "output_type": "execute_result",
          "data": {
            "text/plain": [
              "'/content'"
            ]
          },
          "metadata": {
            "tags": []
          },
          "execution_count": 7
        }
      ]
    },
    {
      "cell_type": "markdown",
      "metadata": {
        "id": "hNnaRy4xv-sS",
        "colab_type": "text"
      },
      "source": [
        "**this cell**"
      ]
    },
    {
      "cell_type": "code",
      "metadata": {
        "id": "5nWoq8YqTtCr",
        "colab_type": "code",
        "colab": {}
      },
      "source": [
        "A4 = np.zeros([2860,81,100],dtype=np.int32)\n",
        "\n",
        "for i in range(0,len(sentences)): \n",
        "  p = 0\n",
        "  for j in sentences[i]:\n",
        "    q = 0\n",
        "    for k in word_model.wv[j]:\n",
        "      r = 0\n",
        "      A4[p][q][r] = k\n",
        "      r=r+1\n",
        "    q=q+1\n",
        "  p=p+1"
      ],
      "execution_count": 0,
      "outputs": []
    },
    {
      "cell_type": "code",
      "metadata": {
        "id": "jL21eaWl4K7X",
        "colab_type": "code",
        "colab": {}
      },
      "source": [
        "#second dimesion of the array 81 because there are total 81 1-mers\n",
        "A2 = np.zeros([2860,79,100])\n",
        "\n",
        "for current_sequence_number in range(0,len(sentences)):\n",
        "\n",
        "  kmer_counter = 0\n",
        "  current_sequence = sentences[current_sequence_number] \n",
        "  \n",
        "  #here j contains a k-mer from current_sequence\n",
        "\n",
        "  for kmer in current_sequence:\n",
        "    \n",
        "    A2[current_sequence_number,kmer_counter,:] = word_model.wv[kmer] \n",
        "\n",
        "    kmer_counter = kmer_counter + 1"
      ],
      "execution_count": 0,
      "outputs": []
    },
    {
      "cell_type": "code",
      "metadata": {
        "id": "F9dSLTQ5ckst",
        "colab_type": "code",
        "colab": {}
      },
      "source": [
        "np.save('/content/drive/My Drive/Colab Notebooks/BIO/Promoter/Dna2Vec/Sigma70/70A4.npy',A2)"
      ],
      "execution_count": 0,
      "outputs": []
    },
    {
      "cell_type": "code",
      "metadata": {
        "id": "GawrGwYub0Ed",
        "colab_type": "code",
        "colab": {}
      },
      "source": [
        "A2[1][1]"
      ],
      "execution_count": 0,
      "outputs": []
    },
    {
      "cell_type": "code",
      "metadata": {
        "id": "8b6mzbMP4rPx",
        "colab_type": "code",
        "colab": {}
      },
      "source": [
        "word_model.wv['CGCG']"
      ],
      "execution_count": 0,
      "outputs": []
    },
    {
      "cell_type": "code",
      "metadata": {
        "id": "Uga9madSb3Qa",
        "colab_type": "code",
        "colab": {}
      },
      "source": [
        "sentences[1][1]"
      ],
      "execution_count": 0,
      "outputs": []
    },
    {
      "cell_type": "markdown",
      "metadata": {
        "id": "mgydp5IDtSiD",
        "colab_type": "text"
      },
      "source": [
        "# 2-Mer"
      ]
    },
    {
      "cell_type": "code",
      "metadata": {
        "id": "eiqRFi_AcAgI",
        "colab_type": "code",
        "colab": {}
      },
      "source": [
        "df = pd.read_csv('/content/promoter70.txt')\n",
        "seqs = df.iloc[:, 0].tolist()\n",
        "\n",
        "for i in range(len(seqs)):\n",
        "  seqs[i] = seqs[i].upper()\n",
        "  \n",
        "with open('/content/drive/My Drive/Colab Notebooks/BIO/Promoter/Dna2Vec/Sigma70/70ds2.txt', 'w', encoding=\"utf-8-sig\") as f:#\n",
        "  for j in seqs:\n",
        "    for k in range(0,len(j)-1):\n",
        "      #print(j[k],end='')\n",
        "      #print(j[k+1],end=' ')\n",
        "      f.write(j[k])\n",
        "      f.write(j[k+1])\n",
        "      f.write(\" \")\n",
        "    f.write(\"\\n\")\n",
        "    #print()\n",
        "f.close()"
      ],
      "execution_count": 0,
      "outputs": []
    },
    {
      "cell_type": "code",
      "metadata": {
        "id": "fBIwrHZH409o",
        "colab_type": "code",
        "colab": {}
      },
      "source": [
        ""
      ],
      "execution_count": 0,
      "outputs": []
    },
    {
      "cell_type": "markdown",
      "metadata": {
        "id": "8LuY8yLadUvm",
        "colab_type": "text"
      },
      "source": [
        "# **3-Mer**"
      ]
    },
    {
      "cell_type": "code",
      "metadata": {
        "id": "0q9TAJvsdYkN",
        "colab_type": "code",
        "colab": {}
      },
      "source": [
        "df = pd.read_csv('/content/promoter70.txt')\n",
        "seqs = df.iloc[:, 0].tolist()\n",
        "\n",
        "for i in range(len(seqs)):\n",
        "  seqs[i] = seqs[i].upper()\n",
        "  \n",
        "with open('/content/drive/My Drive/Colab Notebooks/BIO/Promoter/Dna2Vec/Sigma70/70ds3.txt', 'w', encoding=\"utf-8-sig\") as f:#\n",
        "  for j in seqs:\n",
        "    for k in range(0,len(j)-2):\n",
        "      #print(j[k],end='')\n",
        "      #print(j[k+1],end=' ')\n",
        "      f.write(j[k])\n",
        "      f.write(j[k+1])\n",
        "      f.write(j[k+2])\n",
        "      f.write(\" \")\n",
        "    f.write(\"\\n\")\n",
        "    #print()\n",
        "f.close()"
      ],
      "execution_count": 0,
      "outputs": []
    },
    {
      "cell_type": "markdown",
      "metadata": {
        "id": "TZ4QHLsYfth2",
        "colab_type": "text"
      },
      "source": [
        "# **4-Mer**"
      ]
    },
    {
      "cell_type": "code",
      "metadata": {
        "id": "rY8LsQikfxOO",
        "colab_type": "code",
        "colab": {}
      },
      "source": [
        "df = pd.read_csv('/content/promoter70.txt')\n",
        "seqs = df.iloc[:, 0].tolist()\n",
        "\n",
        "for i in range(len(seqs)):\n",
        "  seqs[i] = seqs[i].upper()\n",
        "  \n",
        "with open('/content/drive/My Drive/Colab Notebooks/BIO/Promoter/Dna2Vec/Sigma70/70ds4.txt', 'w', encoding=\"utf-8-sig\") as f:#\n",
        "  for j in seqs:\n",
        "    for k in range(0,len(j)-3):\n",
        "      #print(j[k],end='')\n",
        "      #print(j[k+1],end=' ')\n",
        "      f.write(j[k])\n",
        "      f.write(j[k+1])\n",
        "      f.write(j[k+2])\n",
        "      f.write(j[k+3])\n",
        "      f.write(\" \")\n",
        "    f.write(\"\\n\")\n",
        "    #print()\n",
        "f.close()"
      ],
      "execution_count": 0,
      "outputs": []
    },
    {
      "cell_type": "markdown",
      "metadata": {
        "id": "iE4VYcEKhYhg",
        "colab_type": "text"
      },
      "source": [
        "# **MODEL**"
      ]
    },
    {
      "cell_type": "code",
      "metadata": {
        "id": "A4vLEkfJ8g64",
        "colab_type": "code",
        "outputId": "b3b8ab5b-2531-4f76-dfc3-1ada1ba62fce",
        "colab": {
          "base_uri": "https://localhost:8080/",
          "height": 54
        }
      },
      "source": [
        "X1 = np.load('/content/drive/My Drive/Colab Notebooks/BIO/Promoter/Dna2Vec/Sigma70/70A1.npy')\n",
        "X2 = np.load('/content/drive/My Drive/Colab Notebooks/BIO/Promoter/Dna2Vec/Sigma70/70A2.npy')\n",
        "X3 = np.load('/content/drive/My Drive/Colab Notebooks/BIO/Promoter/Dna2Vec/Sigma70/70A3.npy')\n",
        "X4 = np.load('/content/drive/My Drive/Colab Notebooks/BIO/Promoter/Dna2Vec/Sigma70/70A4.npy')\n",
        "print('X shape:', X1.shape)\n",
        "y = np.array([1]*1694 + [0]*1166)\n",
        "print('y shape:', y.shape)"
      ],
      "execution_count": 71,
      "outputs": [
        {
          "output_type": "stream",
          "text": [
            "X shape: (2860, 82, 100)\n",
            "y shape: (2860,)\n"
          ],
          "name": "stdout"
        }
      ]
    },
    {
      "cell_type": "code",
      "metadata": {
        "id": "2dPAOYHw9QLA",
        "colab_type": "code",
        "outputId": "05dfd7f4-6378-4ab7-e657-6942cddbeb68",
        "colab": {
          "base_uri": "https://localhost:8080/",
          "height": 90
        }
      },
      "source": [
        "from sklearn.model_selection import train_test_split\n",
        "X_train1,X_test1,Y_train,Y_test = train_test_split(X1,y,test_size=0.1,random_state=10)\n",
        "#shape of train and test objects\n",
        "print(X_train1.shape)\n",
        "print(X_test1.shape)\n",
        "# shape of new y objects\n",
        "print(Y_train.shape)\n",
        "print(Y_test.shape)"
      ],
      "execution_count": 75,
      "outputs": [
        {
          "output_type": "stream",
          "text": [
            "(2574, 82, 100)\n",
            "(286, 82, 100)\n",
            "(2574,)\n",
            "(286,)\n"
          ],
          "name": "stdout"
        }
      ]
    },
    {
      "cell_type": "code",
      "metadata": {
        "id": "IeDf_EpHhcNc",
        "colab_type": "code",
        "colab": {
          "base_uri": "https://localhost:8080/",
          "height": 1000
        },
        "outputId": "70d47c33-1ea9-4523-ccc7-7a44666e21a2"
      },
      "source": [
        "from keras.layers import Input, Dense\n",
        "from keras.models import Model\n",
        "from keras.layers import Input, Embedding, Convolution1D, Dense, Dropout, Flatten, Conv1D, concatenate\n",
        "from keras.optimizers import Adam\n",
        "\n",
        "inputA = Input(shape=(82,100)) # One\n",
        "inputB = Input(shape=(81,100)) # two\n",
        "inputC = Input(shape=(80,100)) # Three\n",
        "inputD = Input(shape=(79,100)) # Four\n",
        "\n",
        "a = Convolution1D(128, kernel_size=3, activation='relu', padding='same') (inputA)\n",
        "a = Dropout(0.5) (a)\n",
        "a = Convolution1D(64, kernel_size=3, activation='relu', padding='same') (a)\n",
        "a = Dropout(0.5) (a)\n",
        "a = Convolution1D(32, kernel_size=3, activation='relu', padding='same') (a)\n",
        "a = Dropout(0.5) (a)\n",
        "a = Flatten() (a)\n",
        "\n",
        "b = Convolution1D(filters = 128, kernel_size= 3, activation='relu', padding='same') (inputB)\n",
        "b = Dropout(0.50) (b)\n",
        "b = Convolution1D(filters = 64, kernel_size = 3, activation='relu', padding='same') (b)\n",
        "b = Dropout(0.50) (b)\n",
        "b = Convolution1D(filters = 32, kernel_size = 3, activation='relu', padding='same') (b)\n",
        "b = Dropout(0.50) (b)\n",
        "b = Flatten() (b)\n",
        "\n",
        "c = Convolution1D(256, kernel_size=3, activation='relu', padding='same') (inputC)\n",
        "c = Dropout(0.5) (c)\n",
        "c = Conv1D(128, kernel_size=3, activation='relu', padding='same') (c)\n",
        "c = Dropout(0.5) (c)\n",
        "c = Conv1D(64, kernel_size=3, activation='relu', padding='same') (c)\n",
        "c = Dropout(0.5) (c)\n",
        "c = Conv1D(32, kernel_size=3, activation='relu', padding='same') (c)\n",
        "c = Dropout(0.5) (c)\n",
        "c = Flatten() (c)\n",
        "\n",
        "d = Convolution1D(128, kernel_size=3, activation='relu', padding='same') (inputD)\n",
        "d = Dropout(0.5) (d)\n",
        "d = Conv1D(64, kernel_size=3, activation='relu', padding='same') (d)\n",
        "d = Dropout(0.5) (d)\n",
        "d = Conv1D(32, kernel_size=3, activation='relu', padding='same') (d)\n",
        "d = Dropout(0.5) (d)\n",
        "d = Flatten() (d)\n",
        "\n",
        "combined = concatenate([a, b, c, d])\n",
        "\n",
        "h = Dropout(0.5) (combined)\n",
        "h = Dense(128, activation='relu') (h)\n",
        "h = Dropout(0.5) (h)\n",
        "h = Dense(64, activation='relu') (h)\n",
        "output = Dense(1, activation='sigmoid') (h)\n",
        "\n",
        "model = Model(inputs=[inputA, inputB, inputC, inputD], outputs=output)\n",
        "model.compile(Adam(lr=0.0003), loss='binary_crossentropy', metrics=['accuracy'])\n",
        "model.fit([X_train1, X_train2, X_train3, X_train4], Y_train, validation_data=([X_test1, X_test2, X_test3, X_test4], Y_test),\n",
        "          epochs=100, batch_size=32, verbose=1)"
      ],
      "execution_count": 77,
      "outputs": [
        {
          "output_type": "stream",
          "text": [
            "Train on 2574 samples, validate on 286 samples\n",
            "Epoch 1/100\n",
            "2574/2574 [==============================] - 3s 1ms/step - loss: 0.7950 - accuracy: 0.5249 - val_loss: 0.6888 - val_accuracy: 0.5839\n",
            "Epoch 2/100\n",
            "2574/2574 [==============================] - 2s 626us/step - loss: 0.7072 - accuracy: 0.5431 - val_loss: 0.6857 - val_accuracy: 0.5699\n",
            "Epoch 3/100\n",
            "2574/2574 [==============================] - 2s 610us/step - loss: 0.6912 - accuracy: 0.5548 - val_loss: 0.6854 - val_accuracy: 0.5769\n",
            "Epoch 4/100\n",
            "2574/2574 [==============================] - 2s 608us/step - loss: 0.6897 - accuracy: 0.5622 - val_loss: 0.6825 - val_accuracy: 0.5699\n",
            "Epoch 5/100\n",
            "2574/2574 [==============================] - 2s 622us/step - loss: 0.6820 - accuracy: 0.5711 - val_loss: 0.6748 - val_accuracy: 0.5699\n",
            "Epoch 6/100\n",
            "2574/2574 [==============================] - 2s 606us/step - loss: 0.6667 - accuracy: 0.5956 - val_loss: 0.6538 - val_accuracy: 0.5699\n",
            "Epoch 7/100\n",
            "2574/2574 [==============================] - 2s 602us/step - loss: 0.6325 - accuracy: 0.6422 - val_loss: 0.6010 - val_accuracy: 0.6608\n",
            "Epoch 8/100\n",
            "2574/2574 [==============================] - 2s 609us/step - loss: 0.6066 - accuracy: 0.6744 - val_loss: 0.6318 - val_accuracy: 0.6399\n",
            "Epoch 9/100\n",
            "2574/2574 [==============================] - 2s 604us/step - loss: 0.5736 - accuracy: 0.7012 - val_loss: 0.5809 - val_accuracy: 0.7098\n",
            "Epoch 10/100\n",
            "2574/2574 [==============================] - 2s 614us/step - loss: 0.5373 - accuracy: 0.7211 - val_loss: 0.5889 - val_accuracy: 0.6993\n",
            "Epoch 11/100\n",
            "2574/2574 [==============================] - 2s 623us/step - loss: 0.5253 - accuracy: 0.7389 - val_loss: 0.5979 - val_accuracy: 0.7028\n",
            "Epoch 12/100\n",
            "2574/2574 [==============================] - 2s 628us/step - loss: 0.5136 - accuracy: 0.7486 - val_loss: 0.5602 - val_accuracy: 0.7308\n",
            "Epoch 13/100\n",
            "2574/2574 [==============================] - 2s 615us/step - loss: 0.4948 - accuracy: 0.7665 - val_loss: 0.5409 - val_accuracy: 0.7622\n",
            "Epoch 14/100\n",
            "2574/2574 [==============================] - 2s 643us/step - loss: 0.4966 - accuracy: 0.7653 - val_loss: 0.5363 - val_accuracy: 0.7587\n",
            "Epoch 15/100\n",
            "2574/2574 [==============================] - 2s 623us/step - loss: 0.4812 - accuracy: 0.7797 - val_loss: 0.5044 - val_accuracy: 0.7797\n",
            "Epoch 16/100\n",
            "2574/2574 [==============================] - 2s 608us/step - loss: 0.4687 - accuracy: 0.7902 - val_loss: 0.5026 - val_accuracy: 0.7797\n",
            "Epoch 17/100\n",
            "2574/2574 [==============================] - 2s 609us/step - loss: 0.4544 - accuracy: 0.7933 - val_loss: 0.4898 - val_accuracy: 0.7727\n",
            "Epoch 18/100\n",
            "2574/2574 [==============================] - 2s 620us/step - loss: 0.4492 - accuracy: 0.7945 - val_loss: 0.4934 - val_accuracy: 0.7832\n",
            "Epoch 19/100\n",
            "2574/2574 [==============================] - 2s 612us/step - loss: 0.4461 - accuracy: 0.8042 - val_loss: 0.5023 - val_accuracy: 0.7867\n",
            "Epoch 20/100\n",
            "2574/2574 [==============================] - 2s 605us/step - loss: 0.4399 - accuracy: 0.8026 - val_loss: 0.5011 - val_accuracy: 0.7832\n",
            "Epoch 21/100\n",
            "2574/2574 [==============================] - 2s 608us/step - loss: 0.4261 - accuracy: 0.8131 - val_loss: 0.4657 - val_accuracy: 0.7972\n",
            "Epoch 22/100\n",
            "2574/2574 [==============================] - 2s 607us/step - loss: 0.4262 - accuracy: 0.8170 - val_loss: 0.4592 - val_accuracy: 0.7972\n",
            "Epoch 23/100\n",
            "2574/2574 [==============================] - 2s 635us/step - loss: 0.4268 - accuracy: 0.8139 - val_loss: 0.4682 - val_accuracy: 0.7937\n",
            "Epoch 24/100\n",
            "2574/2574 [==============================] - 2s 619us/step - loss: 0.4168 - accuracy: 0.8151 - val_loss: 0.4587 - val_accuracy: 0.7972\n",
            "Epoch 25/100\n",
            "2574/2574 [==============================] - 2s 623us/step - loss: 0.4044 - accuracy: 0.8240 - val_loss: 0.4529 - val_accuracy: 0.8007\n",
            "Epoch 26/100\n",
            "2574/2574 [==============================] - 2s 616us/step - loss: 0.4015 - accuracy: 0.8225 - val_loss: 0.4598 - val_accuracy: 0.8007\n",
            "Epoch 27/100\n",
            "2574/2574 [==============================] - 2s 619us/step - loss: 0.4068 - accuracy: 0.8236 - val_loss: 0.4470 - val_accuracy: 0.8042\n",
            "Epoch 28/100\n",
            "2574/2574 [==============================] - 2s 609us/step - loss: 0.4011 - accuracy: 0.8263 - val_loss: 0.4417 - val_accuracy: 0.8077\n",
            "Epoch 29/100\n",
            "2574/2574 [==============================] - 2s 600us/step - loss: 0.3962 - accuracy: 0.8252 - val_loss: 0.4542 - val_accuracy: 0.8042\n",
            "Epoch 30/100\n",
            "2574/2574 [==============================] - 2s 624us/step - loss: 0.3815 - accuracy: 0.8353 - val_loss: 0.4384 - val_accuracy: 0.8147\n",
            "Epoch 31/100\n",
            "2574/2574 [==============================] - 2s 604us/step - loss: 0.3858 - accuracy: 0.8302 - val_loss: 0.4244 - val_accuracy: 0.8217\n",
            "Epoch 32/100\n",
            "2574/2574 [==============================] - 2s 615us/step - loss: 0.3850 - accuracy: 0.8345 - val_loss: 0.4496 - val_accuracy: 0.8182\n",
            "Epoch 33/100\n",
            "2574/2574 [==============================] - 2s 621us/step - loss: 0.3797 - accuracy: 0.8399 - val_loss: 0.4262 - val_accuracy: 0.8182\n",
            "Epoch 34/100\n",
            "2574/2574 [==============================] - 2s 600us/step - loss: 0.3760 - accuracy: 0.8395 - val_loss: 0.4243 - val_accuracy: 0.8287\n",
            "Epoch 35/100\n",
            "2574/2574 [==============================] - 2s 603us/step - loss: 0.3740 - accuracy: 0.8384 - val_loss: 0.4305 - val_accuracy: 0.8112\n",
            "Epoch 36/100\n",
            "2574/2574 [==============================] - 2s 600us/step - loss: 0.3561 - accuracy: 0.8504 - val_loss: 0.4318 - val_accuracy: 0.8322\n",
            "Epoch 37/100\n",
            "2574/2574 [==============================] - 2s 632us/step - loss: 0.3572 - accuracy: 0.8462 - val_loss: 0.4425 - val_accuracy: 0.8252\n",
            "Epoch 38/100\n",
            "2574/2574 [==============================] - 2s 601us/step - loss: 0.3699 - accuracy: 0.8442 - val_loss: 0.4370 - val_accuracy: 0.8217\n",
            "Epoch 39/100\n",
            "2574/2574 [==============================] - 2s 609us/step - loss: 0.3536 - accuracy: 0.8493 - val_loss: 0.4156 - val_accuracy: 0.8252\n",
            "Epoch 40/100\n",
            "2574/2574 [==============================] - 2s 632us/step - loss: 0.3418 - accuracy: 0.8586 - val_loss: 0.4241 - val_accuracy: 0.8147\n",
            "Epoch 41/100\n",
            "2574/2574 [==============================] - 2s 621us/step - loss: 0.3596 - accuracy: 0.8504 - val_loss: 0.4375 - val_accuracy: 0.8112\n",
            "Epoch 42/100\n",
            "2574/2574 [==============================] - 2s 616us/step - loss: 0.3438 - accuracy: 0.8605 - val_loss: 0.4177 - val_accuracy: 0.8252\n",
            "Epoch 43/100\n",
            "2574/2574 [==============================] - 2s 640us/step - loss: 0.3607 - accuracy: 0.8458 - val_loss: 0.4232 - val_accuracy: 0.8252\n",
            "Epoch 44/100\n",
            "2574/2574 [==============================] - 2s 613us/step - loss: 0.3532 - accuracy: 0.8446 - val_loss: 0.4184 - val_accuracy: 0.8182\n",
            "Epoch 45/100\n",
            "2574/2574 [==============================] - 2s 613us/step - loss: 0.3283 - accuracy: 0.8582 - val_loss: 0.4174 - val_accuracy: 0.8287\n",
            "Epoch 46/100\n",
            "2574/2574 [==============================] - 2s 641us/step - loss: 0.3315 - accuracy: 0.8613 - val_loss: 0.4087 - val_accuracy: 0.8427\n",
            "Epoch 47/100\n",
            "2574/2574 [==============================] - 2s 627us/step - loss: 0.3402 - accuracy: 0.8539 - val_loss: 0.4162 - val_accuracy: 0.8462\n",
            "Epoch 48/100\n",
            "2574/2574 [==============================] - 2s 614us/step - loss: 0.3213 - accuracy: 0.8667 - val_loss: 0.4267 - val_accuracy: 0.8112\n",
            "Epoch 49/100\n",
            "2574/2574 [==============================] - 2s 625us/step - loss: 0.3209 - accuracy: 0.8629 - val_loss: 0.4097 - val_accuracy: 0.8287\n",
            "Epoch 50/100\n",
            "2574/2574 [==============================] - 2s 619us/step - loss: 0.3010 - accuracy: 0.8745 - val_loss: 0.4086 - val_accuracy: 0.8252\n",
            "Epoch 51/100\n",
            "2574/2574 [==============================] - 2s 619us/step - loss: 0.3168 - accuracy: 0.8636 - val_loss: 0.4090 - val_accuracy: 0.8252\n",
            "Epoch 52/100\n",
            "2574/2574 [==============================] - 2s 612us/step - loss: 0.3264 - accuracy: 0.8636 - val_loss: 0.4124 - val_accuracy: 0.8252\n",
            "Epoch 53/100\n",
            "2574/2574 [==============================] - 2s 619us/step - loss: 0.3089 - accuracy: 0.8706 - val_loss: 0.4194 - val_accuracy: 0.8217\n",
            "Epoch 54/100\n",
            "2574/2574 [==============================] - 2s 613us/step - loss: 0.3194 - accuracy: 0.8691 - val_loss: 0.4230 - val_accuracy: 0.8182\n",
            "Epoch 55/100\n",
            "2574/2574 [==============================] - 2s 613us/step - loss: 0.3032 - accuracy: 0.8737 - val_loss: 0.4129 - val_accuracy: 0.8322\n",
            "Epoch 56/100\n",
            "2574/2574 [==============================] - 2s 612us/step - loss: 0.3014 - accuracy: 0.8803 - val_loss: 0.4087 - val_accuracy: 0.8392\n",
            "Epoch 57/100\n",
            "2574/2574 [==============================] - 2s 623us/step - loss: 0.3047 - accuracy: 0.8765 - val_loss: 0.4071 - val_accuracy: 0.8287\n",
            "Epoch 58/100\n",
            "2574/2574 [==============================] - 2s 615us/step - loss: 0.2978 - accuracy: 0.8780 - val_loss: 0.4087 - val_accuracy: 0.8252\n",
            "Epoch 59/100\n",
            "2574/2574 [==============================] - 2s 634us/step - loss: 0.2927 - accuracy: 0.8718 - val_loss: 0.4177 - val_accuracy: 0.8322\n",
            "Epoch 60/100\n",
            "2574/2574 [==============================] - 2s 621us/step - loss: 0.2970 - accuracy: 0.8749 - val_loss: 0.4040 - val_accuracy: 0.8392\n",
            "Epoch 61/100\n",
            "2574/2574 [==============================] - 2s 610us/step - loss: 0.2981 - accuracy: 0.8753 - val_loss: 0.4169 - val_accuracy: 0.8322\n",
            "Epoch 62/100\n",
            "2574/2574 [==============================] - 2s 620us/step - loss: 0.2884 - accuracy: 0.8761 - val_loss: 0.4126 - val_accuracy: 0.8322\n",
            "Epoch 63/100\n",
            "2574/2574 [==============================] - 2s 617us/step - loss: 0.2972 - accuracy: 0.8823 - val_loss: 0.4035 - val_accuracy: 0.8392\n",
            "Epoch 64/100\n",
            "2574/2574 [==============================] - 2s 619us/step - loss: 0.2887 - accuracy: 0.8784 - val_loss: 0.4138 - val_accuracy: 0.8392\n",
            "Epoch 65/100\n",
            "2574/2574 [==============================] - 2s 609us/step - loss: 0.2798 - accuracy: 0.8842 - val_loss: 0.4119 - val_accuracy: 0.8287\n",
            "Epoch 66/100\n",
            "2574/2574 [==============================] - 2s 612us/step - loss: 0.2639 - accuracy: 0.8924 - val_loss: 0.4087 - val_accuracy: 0.8252\n",
            "Epoch 67/100\n",
            "2574/2574 [==============================] - 2s 635us/step - loss: 0.2828 - accuracy: 0.8873 - val_loss: 0.4069 - val_accuracy: 0.8217\n",
            "Epoch 68/100\n",
            "2574/2574 [==============================] - 2s 620us/step - loss: 0.2705 - accuracy: 0.8920 - val_loss: 0.4131 - val_accuracy: 0.8287\n",
            "Epoch 69/100\n",
            "2574/2574 [==============================] - 2s 613us/step - loss: 0.2812 - accuracy: 0.8796 - val_loss: 0.4154 - val_accuracy: 0.8287\n",
            "Epoch 70/100\n",
            "2574/2574 [==============================] - 2s 613us/step - loss: 0.2636 - accuracy: 0.8862 - val_loss: 0.4099 - val_accuracy: 0.8287\n",
            "Epoch 71/100\n",
            "2574/2574 [==============================] - 2s 626us/step - loss: 0.2786 - accuracy: 0.8885 - val_loss: 0.4106 - val_accuracy: 0.8322\n",
            "Epoch 72/100\n",
            "2574/2574 [==============================] - 2s 612us/step - loss: 0.2583 - accuracy: 0.8951 - val_loss: 0.4162 - val_accuracy: 0.8357\n",
            "Epoch 73/100\n",
            "2574/2574 [==============================] - 2s 612us/step - loss: 0.2583 - accuracy: 0.8936 - val_loss: 0.4163 - val_accuracy: 0.8252\n",
            "Epoch 74/100\n",
            "2574/2574 [==============================] - 2s 612us/step - loss: 0.2737 - accuracy: 0.8869 - val_loss: 0.4027 - val_accuracy: 0.8322\n",
            "Epoch 75/100\n",
            "2574/2574 [==============================] - 2s 652us/step - loss: 0.2705 - accuracy: 0.8819 - val_loss: 0.4143 - val_accuracy: 0.8252\n",
            "Epoch 76/100\n",
            "2574/2574 [==============================] - 2s 636us/step - loss: 0.2616 - accuracy: 0.8897 - val_loss: 0.4165 - val_accuracy: 0.8322\n",
            "Epoch 77/100\n",
            "2574/2574 [==============================] - 2s 630us/step - loss: 0.2611 - accuracy: 0.8986 - val_loss: 0.4166 - val_accuracy: 0.8287\n",
            "Epoch 78/100\n",
            "2574/2574 [==============================] - 2s 612us/step - loss: 0.2552 - accuracy: 0.8967 - val_loss: 0.4103 - val_accuracy: 0.8322\n",
            "Epoch 79/100\n",
            "2574/2574 [==============================] - 2s 622us/step - loss: 0.2464 - accuracy: 0.9040 - val_loss: 0.4035 - val_accuracy: 0.8287\n",
            "Epoch 80/100\n",
            "2574/2574 [==============================] - 2s 623us/step - loss: 0.2509 - accuracy: 0.8947 - val_loss: 0.4272 - val_accuracy: 0.8287\n",
            "Epoch 81/100\n",
            "2574/2574 [==============================] - 2s 638us/step - loss: 0.2331 - accuracy: 0.9029 - val_loss: 0.4200 - val_accuracy: 0.8287\n",
            "Epoch 82/100\n",
            "2574/2574 [==============================] - 2s 618us/step - loss: 0.2412 - accuracy: 0.9040 - val_loss: 0.4177 - val_accuracy: 0.8287\n",
            "Epoch 83/100\n",
            "2574/2574 [==============================] - 2s 622us/step - loss: 0.2528 - accuracy: 0.8990 - val_loss: 0.4079 - val_accuracy: 0.8287\n",
            "Epoch 84/100\n",
            "2574/2574 [==============================] - 2s 607us/step - loss: 0.2334 - accuracy: 0.9087 - val_loss: 0.4196 - val_accuracy: 0.8322\n",
            "Epoch 85/100\n",
            "2574/2574 [==============================] - 2s 611us/step - loss: 0.2479 - accuracy: 0.9005 - val_loss: 0.4171 - val_accuracy: 0.8217\n",
            "Epoch 86/100\n",
            "2574/2574 [==============================] - 2s 609us/step - loss: 0.2254 - accuracy: 0.9106 - val_loss: 0.4166 - val_accuracy: 0.8182\n",
            "Epoch 87/100\n",
            "2574/2574 [==============================] - 2s 611us/step - loss: 0.2408 - accuracy: 0.8990 - val_loss: 0.4139 - val_accuracy: 0.8287\n",
            "Epoch 88/100\n",
            "2574/2574 [==============================] - 2s 624us/step - loss: 0.2286 - accuracy: 0.9068 - val_loss: 0.4096 - val_accuracy: 0.8217\n",
            "Epoch 89/100\n",
            "2574/2574 [==============================] - 2s 623us/step - loss: 0.2170 - accuracy: 0.9157 - val_loss: 0.4181 - val_accuracy: 0.8287\n",
            "Epoch 90/100\n",
            "2574/2574 [==============================] - 2s 614us/step - loss: 0.2279 - accuracy: 0.9037 - val_loss: 0.4209 - val_accuracy: 0.8287\n",
            "Epoch 91/100\n",
            "2574/2574 [==============================] - 2s 626us/step - loss: 0.2250 - accuracy: 0.9075 - val_loss: 0.4216 - val_accuracy: 0.8287\n",
            "Epoch 92/100\n",
            "2574/2574 [==============================] - 2s 634us/step - loss: 0.2252 - accuracy: 0.9064 - val_loss: 0.4158 - val_accuracy: 0.8322\n",
            "Epoch 93/100\n",
            "2574/2574 [==============================] - 2s 636us/step - loss: 0.2175 - accuracy: 0.9091 - val_loss: 0.4145 - val_accuracy: 0.8252\n",
            "Epoch 94/100\n",
            "2574/2574 [==============================] - 2s 620us/step - loss: 0.2235 - accuracy: 0.9079 - val_loss: 0.4223 - val_accuracy: 0.8427\n",
            "Epoch 95/100\n",
            "2574/2574 [==============================] - 2s 623us/step - loss: 0.2052 - accuracy: 0.9180 - val_loss: 0.4316 - val_accuracy: 0.8287\n",
            "Epoch 96/100\n",
            "2574/2574 [==============================] - 2s 626us/step - loss: 0.2155 - accuracy: 0.9103 - val_loss: 0.4261 - val_accuracy: 0.8427\n",
            "Epoch 97/100\n",
            "2574/2574 [==============================] - 2s 631us/step - loss: 0.2156 - accuracy: 0.9118 - val_loss: 0.4178 - val_accuracy: 0.8322\n",
            "Epoch 98/100\n",
            "2574/2574 [==============================] - 2s 638us/step - loss: 0.2050 - accuracy: 0.9188 - val_loss: 0.4187 - val_accuracy: 0.8287\n",
            "Epoch 99/100\n",
            "2574/2574 [==============================] - 2s 641us/step - loss: 0.2299 - accuracy: 0.9056 - val_loss: 0.4128 - val_accuracy: 0.8462\n",
            "Epoch 100/100\n",
            "2574/2574 [==============================] - 2s 651us/step - loss: 0.1999 - accuracy: 0.9176 - val_loss: 0.4277 - val_accuracy: 0.8357\n"
          ],
          "name": "stdout"
        },
        {
          "output_type": "execute_result",
          "data": {
            "text/plain": [
              "<keras.callbacks.callbacks.History at 0x7f3edb51bc18>"
            ]
          },
          "metadata": {
            "tags": []
          },
          "execution_count": 77
        }
      ]
    },
    {
      "cell_type": "code",
      "metadata": {
        "id": "xRNeeRvpiL89",
        "colab_type": "code",
        "colab": {}
      },
      "source": [
        ""
      ],
      "execution_count": 0,
      "outputs": []
    },
    {
      "cell_type": "markdown",
      "metadata": {
        "id": "00zybaPoLFhY",
        "colab_type": "text"
      },
      "source": [
        "# **K- Fold**"
      ]
    },
    {
      "cell_type": "code",
      "metadata": {
        "id": "tz37Ak9KLIGo",
        "colab_type": "code",
        "outputId": "96644753-7e52-4020-8ff2-5846d8942bf6",
        "colab": {
          "base_uri": "https://localhost:8080/",
          "height": 1000
        }
      },
      "source": [
        "yt = []\n",
        "yp = []\n",
        "from sklearn.model_selection import KFold\n",
        "kf = KFold(n_splits=5, shuffle=True)\n",
        "for train_idx, val_idx in kf.split(X1):\n",
        "  X_train1 = X1[train_idx]\n",
        "  X_train2 = X2[train_idx]\n",
        "  X_train3 = X3[train_idx]\n",
        "  X_train4 = X4[train_idx]\n",
        "  y_train = y[train_idx]\n",
        "\n",
        "  X_val1 = X1[val_idx]\n",
        "  X_val2 = X2[val_idx]\n",
        "  X_val3 = X3[val_idx]\n",
        "  X_val4 = X4[val_idx]\n",
        "  y_val = y[val_idx]\n",
        "\n",
        "  inputA = Input(shape=(81,100)) # One\n",
        "  inputB = Input(shape=(80,100)) # two\n",
        "  inputC = Input(shape=(79,100)) # Three\n",
        "  inputD = Input(shape=(78,100)) # Four\n",
        "\n",
        "  a = Convolution1D(128, kernel_size=3, activation='relu', padding='same') (inputA)\n",
        "  a = Dropout(0.5) (a)\n",
        "  a = Convolution1D(64, kernel_size=3, activation='relu', padding='same') (a)\n",
        "  a = Dropout(0.5) (a)\n",
        "  a = Convolution1D(32, kernel_size=3, activation='relu', padding='same') (a)\n",
        "  a = Dropout(0.5) (a)\n",
        "  a = Flatten() (a)\n",
        "\n",
        "  b = Convolution1D(filters = 128, kernel_size= 3, activation='relu', padding='same') (inputB)\n",
        "  b = Dropout(0.50) (b)\n",
        "  b = Convolution1D(filters = 64, kernel_size = 3, activation='relu', padding='same') (b)\n",
        "  b = Dropout(0.50) (b)\n",
        "  b = Convolution1D(filters = 32, kernel_size = 3, activation='relu', padding='same') (b)\n",
        "  b = Dropout(0.50) (b)\n",
        "  b = Flatten() (b)\n",
        "\n",
        "  c = Convolution1D(256, kernel_size=3, activation='relu', padding='same') (inputC)\n",
        "  c = Dropout(0.5) (c)\n",
        "  c = Conv1D(128, kernel_size=3, activation='relu', padding='same') (c)\n",
        "  c = Dropout(0.5) (c)\n",
        "  c = Conv1D(64, kernel_size=3, activation='relu', padding='same') (c)\n",
        "  c = Dropout(0.5) (c)\n",
        "  c = Conv1D(32, kernel_size=3, activation='relu', padding='same') (c)\n",
        "  c = Dropout(0.5) (c)\n",
        "  c = Flatten() (c)\n",
        "\n",
        "  d = Convolution1D(128, kernel_size=3, activation='relu', padding='same') (inputD)\n",
        "  d = Dropout(0.5) (d)\n",
        "  d = Conv1D(64, kernel_size=3, activation='relu', padding='same') (d)\n",
        "  d = Dropout(0.5) (d)\n",
        "  d = Conv1D(32, kernel_size=3, activation='relu', padding='same') (d)\n",
        "  d = Dropout(0.5) (d)\n",
        "  d = Flatten() (d)\n",
        "\n",
        "  combined = concatenate([a, b, c, d])\n",
        "\n",
        "  h = Dropout(0.5) (combined)\n",
        "  h = Dense(128, activation='relu') (h)\n",
        "  h = Dropout(0.5) (h)\n",
        "  h = Dense(64, activation='relu') (h)\n",
        "  output = Dense(1, activation='sigmoid') (h)\n",
        "\n",
        "  model = Model(inputs=[inputA, inputB, inputC, inputD], outputs=output)\n",
        "  model.compile(Adam(lr=0.0003), loss='binary_crossentropy', metrics=['accuracy'])\n",
        "  model.fit([X_train1, X_train2, X_train3, X_train4], y_train, \n",
        "            validation_data=([X_val1, X_val2, X_val3, X_val4], y_val),\n",
        "            epochs=10, batch_size=32, verbose=1)\n",
        "\n",
        "\n",
        "  probabilities = model.predict([X_val1, X_val2, X_val3, X_val4])\n",
        "  predicted_classes = probabilities >= 0.5\n",
        "  predicted_classes = predicted_classes.astype(int)\n",
        "  yp.append(predicted_classes)\n",
        "  yt.append(y_val)"
      ],
      "execution_count": 0,
      "outputs": [
        {
          "output_type": "stream",
          "text": [
            "Train on 4576 samples, validate on 1144 samples\n",
            "Epoch 1/10\n",
            "4576/4576 [==============================] - 3s 713us/step - loss: 0.7719 - accuracy: 0.4952 - val_loss: 0.6884 - val_accuracy: 0.6110\n",
            "Epoch 2/10\n",
            "4576/4576 [==============================] - 2s 509us/step - loss: 0.6825 - accuracy: 0.5610 - val_loss: 0.5767 - val_accuracy: 0.7351\n",
            "Epoch 3/10\n",
            "4576/4576 [==============================] - 2s 503us/step - loss: 0.5564 - accuracy: 0.7310 - val_loss: 0.4884 - val_accuracy: 0.7736\n",
            "Epoch 4/10\n",
            "4576/4576 [==============================] - 2s 506us/step - loss: 0.5256 - accuracy: 0.7476 - val_loss: 0.4966 - val_accuracy: 0.7517\n",
            "Epoch 5/10\n",
            "4576/4576 [==============================] - 2s 502us/step - loss: 0.5211 - accuracy: 0.7509 - val_loss: 0.4778 - val_accuracy: 0.7841\n",
            "Epoch 6/10\n",
            "4576/4576 [==============================] - 2s 519us/step - loss: 0.4975 - accuracy: 0.7677 - val_loss: 0.4696 - val_accuracy: 0.7876\n",
            "Epoch 7/10\n",
            "4576/4576 [==============================] - 2s 506us/step - loss: 0.4915 - accuracy: 0.7743 - val_loss: 0.4689 - val_accuracy: 0.7937\n",
            "Epoch 8/10\n",
            "4576/4576 [==============================] - 2s 511us/step - loss: 0.4904 - accuracy: 0.7775 - val_loss: 0.4686 - val_accuracy: 0.7622\n",
            "Epoch 9/10\n",
            "4576/4576 [==============================] - 2s 513us/step - loss: 0.4691 - accuracy: 0.7832 - val_loss: 0.4509 - val_accuracy: 0.7998\n",
            "Epoch 10/10\n",
            "4576/4576 [==============================] - 2s 516us/step - loss: 0.4703 - accuracy: 0.7880 - val_loss: 0.4524 - val_accuracy: 0.7876\n",
            "Train on 4576 samples, validate on 1144 samples\n",
            "Epoch 1/10\n",
            "4576/4576 [==============================] - 4s 772us/step - loss: 0.7670 - accuracy: 0.5031 - val_loss: 0.6859 - val_accuracy: 0.6302\n",
            "Epoch 2/10\n",
            "4576/4576 [==============================] - 2s 524us/step - loss: 0.6495 - accuracy: 0.6075 - val_loss: 0.5387 - val_accuracy: 0.7535\n",
            "Epoch 3/10\n",
            "4576/4576 [==============================] - 2s 511us/step - loss: 0.5493 - accuracy: 0.7301 - val_loss: 0.4950 - val_accuracy: 0.7815\n",
            "Epoch 4/10\n",
            "4576/4576 [==============================] - 2s 524us/step - loss: 0.5195 - accuracy: 0.7570 - val_loss: 0.5196 - val_accuracy: 0.7561\n",
            "Epoch 5/10\n",
            "4576/4576 [==============================] - 2s 545us/step - loss: 0.5155 - accuracy: 0.7607 - val_loss: 0.4787 - val_accuracy: 0.7841\n",
            "Epoch 6/10\n",
            "4576/4576 [==============================] - 2s 541us/step - loss: 0.5032 - accuracy: 0.7681 - val_loss: 0.4746 - val_accuracy: 0.7850\n",
            "Epoch 7/10\n",
            "4576/4576 [==============================] - 3s 549us/step - loss: 0.4971 - accuracy: 0.7697 - val_loss: 0.4678 - val_accuracy: 0.7876\n",
            "Epoch 8/10\n",
            "4576/4576 [==============================] - 2s 532us/step - loss: 0.4803 - accuracy: 0.7861 - val_loss: 0.4870 - val_accuracy: 0.7727\n",
            "Epoch 9/10\n",
            "4576/4576 [==============================] - 2s 523us/step - loss: 0.4823 - accuracy: 0.7819 - val_loss: 0.4597 - val_accuracy: 0.7928\n",
            "Epoch 10/10\n",
            "4576/4576 [==============================] - 2s 519us/step - loss: 0.4740 - accuracy: 0.7869 - val_loss: 0.4509 - val_accuracy: 0.8016\n",
            "Train on 4576 samples, validate on 1144 samples\n",
            "Epoch 1/10\n",
            "4576/4576 [==============================] - 3s 741us/step - loss: 0.7468 - accuracy: 0.5009 - val_loss: 0.6913 - val_accuracy: 0.5437\n",
            "Epoch 2/10\n",
            "4576/4576 [==============================] - 2s 522us/step - loss: 0.6946 - accuracy: 0.5350 - val_loss: 0.6266 - val_accuracy: 0.6233\n",
            "Epoch 3/10\n",
            "4576/4576 [==============================] - 2s 512us/step - loss: 0.5748 - accuracy: 0.7045 - val_loss: 0.5569 - val_accuracy: 0.7448\n",
            "Epoch 4/10\n",
            "4576/4576 [==============================] - 2s 520us/step - loss: 0.5398 - accuracy: 0.7450 - val_loss: 0.4837 - val_accuracy: 0.7893\n",
            "Epoch 5/10\n",
            "4576/4576 [==============================] - 2s 510us/step - loss: 0.5111 - accuracy: 0.7590 - val_loss: 0.4693 - val_accuracy: 0.7893\n",
            "Epoch 6/10\n",
            "4576/4576 [==============================] - 2s 516us/step - loss: 0.4967 - accuracy: 0.7677 - val_loss: 0.4718 - val_accuracy: 0.7832\n",
            "Epoch 7/10\n",
            "4576/4576 [==============================] - 2s 516us/step - loss: 0.4888 - accuracy: 0.7721 - val_loss: 0.4575 - val_accuracy: 0.7823\n",
            "Epoch 8/10\n",
            "4576/4576 [==============================] - 2s 519us/step - loss: 0.4868 - accuracy: 0.7666 - val_loss: 0.4790 - val_accuracy: 0.7753\n",
            "Epoch 9/10\n",
            "4576/4576 [==============================] - 2s 513us/step - loss: 0.4870 - accuracy: 0.7747 - val_loss: 0.4610 - val_accuracy: 0.7745\n",
            "Epoch 10/10\n",
            "4576/4576 [==============================] - 2s 517us/step - loss: 0.4748 - accuracy: 0.7793 - val_loss: 0.4487 - val_accuracy: 0.7937\n",
            "Train on 4576 samples, validate on 1144 samples\n",
            "Epoch 1/10\n",
            "4576/4576 [==============================] - 3s 725us/step - loss: 0.7704 - accuracy: 0.5066 - val_loss: 0.6952 - val_accuracy: 0.4930\n",
            "Epoch 2/10\n",
            "4576/4576 [==============================] - 2s 500us/step - loss: 0.7074 - accuracy: 0.5122 - val_loss: 0.6863 - val_accuracy: 0.6477\n",
            "Epoch 3/10\n",
            "4576/4576 [==============================] - 2s 509us/step - loss: 0.6684 - accuracy: 0.5756 - val_loss: 0.5440 - val_accuracy: 0.7491\n",
            "Epoch 4/10\n",
            "4576/4576 [==============================] - 2s 517us/step - loss: 0.5586 - accuracy: 0.7275 - val_loss: 0.5110 - val_accuracy: 0.7622\n",
            "Epoch 5/10\n",
            "4576/4576 [==============================] - 2s 513us/step - loss: 0.5123 - accuracy: 0.7611 - val_loss: 0.5568 - val_accuracy: 0.7544\n",
            "Epoch 6/10\n",
            "4576/4576 [==============================] - 2s 518us/step - loss: 0.5170 - accuracy: 0.7635 - val_loss: 0.4907 - val_accuracy: 0.7771\n",
            "Epoch 7/10\n",
            "4576/4576 [==============================] - 2s 519us/step - loss: 0.5043 - accuracy: 0.7692 - val_loss: 0.4739 - val_accuracy: 0.7815\n",
            "Epoch 8/10\n",
            "4576/4576 [==============================] - 2s 519us/step - loss: 0.4875 - accuracy: 0.7762 - val_loss: 0.4749 - val_accuracy: 0.7841\n",
            "Epoch 9/10\n",
            "4576/4576 [==============================] - 2s 518us/step - loss: 0.4900 - accuracy: 0.7769 - val_loss: 0.4844 - val_accuracy: 0.7850\n",
            "Epoch 10/10\n",
            "4576/4576 [==============================] - 2s 510us/step - loss: 0.4754 - accuracy: 0.7815 - val_loss: 0.4420 - val_accuracy: 0.7972\n",
            "Train on 4576 samples, validate on 1144 samples\n",
            "Epoch 1/10\n",
            "4576/4576 [==============================] - 3s 714us/step - loss: 0.7641 - accuracy: 0.5133 - val_loss: 0.6858 - val_accuracy: 0.6049\n",
            "Epoch 2/10\n",
            "4576/4576 [==============================] - 2s 501us/step - loss: 0.6977 - accuracy: 0.5413 - val_loss: 0.6477 - val_accuracy: 0.5245\n",
            "Epoch 3/10\n",
            "4576/4576 [==============================] - 2s 510us/step - loss: 0.5969 - accuracy: 0.6807 - val_loss: 0.4798 - val_accuracy: 0.7937\n",
            "Epoch 4/10\n",
            "4576/4576 [==============================] - 2s 494us/step - loss: 0.5371 - accuracy: 0.7448 - val_loss: 0.4532 - val_accuracy: 0.7946\n",
            "Epoch 5/10\n",
            "4576/4576 [==============================] - 2s 504us/step - loss: 0.5179 - accuracy: 0.7574 - val_loss: 0.4629 - val_accuracy: 0.7841\n",
            "Epoch 6/10\n",
            "4576/4576 [==============================] - 2s 513us/step - loss: 0.5079 - accuracy: 0.7651 - val_loss: 0.4383 - val_accuracy: 0.8016\n",
            "Epoch 7/10\n",
            "4576/4576 [==============================] - 2s 514us/step - loss: 0.4950 - accuracy: 0.7745 - val_loss: 0.4237 - val_accuracy: 0.8129\n",
            "Epoch 8/10\n",
            "4576/4576 [==============================] - 2s 503us/step - loss: 0.4885 - accuracy: 0.7791 - val_loss: 0.4174 - val_accuracy: 0.8243\n",
            "Epoch 9/10\n",
            "4576/4576 [==============================] - 2s 503us/step - loss: 0.4744 - accuracy: 0.7819 - val_loss: 0.4215 - val_accuracy: 0.8191\n",
            "Epoch 10/10\n",
            "4576/4576 [==============================] - 2s 495us/step - loss: 0.4687 - accuracy: 0.7891 - val_loss: 0.4209 - val_accuracy: 0.8173\n"
          ],
          "name": "stdout"
        }
      ]
    },
    {
      "cell_type": "code",
      "metadata": {
        "id": "uM-P5_u-LK_x",
        "colab_type": "code",
        "colab": {}
      },
      "source": [
        "true = []\n",
        "pred = []\n",
        "a=0\n",
        "for i in yt:\n",
        "  b=0\n",
        "  for j in i:\n",
        "    true.append(j)\n",
        "    pred.append(yp[a][b])\n",
        "    b=+1\n",
        "  a+=1\n",
        "    \n",
        "y_true = np.asarray(true)\n",
        "y_pred = np.asarray(pred)\n",
        "\n",
        "print('Acc: ', accuracy_score(y_true, y_pred) * 100)\n",
        "print('MCC: ', matthews_corrcoef(y_true, y_pred) * 100)\n",
        "\n",
        "cm = confusion_matrix(y_true, y_pred)\n",
        "print('Sn:  ', (cm[1,1] / (cm[1,1] + cm[1,0])) * 100)\n",
        "print('Sp:  ', (cm[0,0] / (cm[0,0] + cm[0,1])) * 100)\n",
        "\n",
        "p = precision_recall_fscore_support(y_true, y_pred)\n",
        "print('pre_ 0: ', p[0][0] * 100)\n",
        "print('pre_ 1: ', p[0][1] * 100)\n",
        "print('Pre_weighted: ', precision_score(y_true, y_pred, average='weighted') * 100)\n",
        "\n",
        "print('F-score: ', np.mean(p[2]))"
      ],
      "execution_count": 0,
      "outputs": []
    },
    {
      "cell_type": "code",
      "metadata": {
        "id": "I4Ed2SpTRPWY",
        "colab_type": "code",
        "colab": {}
      },
      "source": [
        ""
      ],
      "execution_count": 0,
      "outputs": []
    }
  ]
}